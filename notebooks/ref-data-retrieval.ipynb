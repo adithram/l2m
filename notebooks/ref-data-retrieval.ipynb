{
 "cells": [
  {
   "cell_type": "code",
   "execution_count": 50,
   "id": "7443be8c",
   "metadata": {},
   "outputs": [],
   "source": [
    "import json\n",
    "import pandas as pd\n",
    "import requests\n",
    "import time\n",
    "\n",
    "from bs4 import BeautifulSoup\n",
    "from tqdm import tqdm\n",
    "from typing import *"
   ]
  },
  {
   "cell_type": "code",
   "execution_count": 2,
   "id": "df9206ac",
   "metadata": {},
   "outputs": [],
   "source": [
    "# load data\n",
    "player_data = \"../data/processed/player_data.csv\"\n",
    "team_data = \"../data/processed/team_data.csv\"\n",
    "\n",
    "def load_data(team_loc, player_loc):\n",
    "    \n",
    "    return pd.read_csv(team_loc), pd.read_csv(player_loc)\n",
    "\n",
    "team_df, player_df = load_data(team_loc=team_data, player_loc=player_data)"
   ]
  },
  {
   "cell_type": "code",
   "execution_count": 15,
   "id": "d9d77c84",
   "metadata": {},
   "outputs": [],
   "source": [
    "TEAM_LOOKUP = {\n",
    "  \"ATL\": \"Hawks\",\n",
    "  \"BKN\": \"Nets\",\n",
    "  \"BOS\": \"Celtics\",\n",
    "  \"CHA\": \"Hornets\",\n",
    "  \"CHI\": \"Bulls\",\n",
    "  \"CLE\": \"Cavaliers\",\n",
    "  \"DAL\": \"Mavericks\",\n",
    "  \"DEN\": \"Nuggets\",\n",
    "  \"DET\": \"Pistons\",\n",
    "  \"GSW\": \"Warriors\",\n",
    "  \"HOU\": \"Rockets\",\n",
    "  \"IND\": \"Pacers\",\n",
    "  \"LAC\": \"Clippers\",\n",
    "  \"LAL\": \"Lakers\",\n",
    "  \"MEM\": \"Grizzlies\",\n",
    "  \"MIA\": \"Heat\",\n",
    "  \"MIL\": \"Bucks\",\n",
    "  \"MIN\": \"Timberwolves\",\n",
    "  \"NOP\": \"Pelicans\",\n",
    "  \"NYK\": \"Knicks\",\n",
    "  \"OKC\": \"Thunder\",\n",
    "  \"ORL\": \"Magic\",\n",
    "  \"PHI\": \"76ers\",\n",
    "  \"PHX\": \"Suns\",\n",
    "  \"POR\": \"Trail Blazers\",\n",
    "  \"SAC\": \"Kings\",\n",
    "  \"SAS\": \"Spurs\",\n",
    "  \"TOR\": \"Raptors\",\n",
    "  \"UTA\": \"Jazz\",\n",
    "  \"WAS\": \"Wizards\"\n",
    "}\n",
    "\n",
    "INVERTED_TEAM_LOOKUP = {v:k for k,v in TEAM_LOOKUP.items()}"
   ]
  },
  {
   "cell_type": "markdown",
   "id": "1c454b6a",
   "metadata": {},
   "source": [
    "### Filter to avoid game duplication:"
   ]
  },
  {
   "cell_type": "code",
   "execution_count": 16,
   "id": "e149f197",
   "metadata": {},
   "outputs": [
    {
     "data": {
      "text/html": [
       "<div>\n",
       "<style scoped>\n",
       "    .dataframe tbody tr th:only-of-type {\n",
       "        vertical-align: middle;\n",
       "    }\n",
       "\n",
       "    .dataframe tbody tr th {\n",
       "        vertical-align: top;\n",
       "    }\n",
       "\n",
       "    .dataframe thead th {\n",
       "        text-align: right;\n",
       "    }\n",
       "</style>\n",
       "<table border=\"1\" class=\"dataframe\">\n",
       "  <thead>\n",
       "    <tr style=\"text-align: right;\">\n",
       "      <th></th>\n",
       "      <th>Unnamed: 0</th>\n",
       "      <th>teamName</th>\n",
       "      <th>opponent</th>\n",
       "      <th>game</th>\n",
       "      <th>gameId</th>\n",
       "      <th>gameDate</th>\n",
       "      <th>pointsScored</th>\n",
       "      <th>pointsAllowed</th>\n",
       "      <th>outcome</th>\n",
       "      <th>callsReceived</th>\n",
       "      <th>errorsInFavor</th>\n",
       "      <th>posessionsInFavor</th>\n",
       "    </tr>\n",
       "  </thead>\n",
       "  <tbody>\n",
       "    <tr>\n",
       "      <th>0</th>\n",
       "      <td>0</td>\n",
       "      <td>76ers</td>\n",
       "      <td>Nuggets</td>\n",
       "      <td>76ers vs Nuggets</td>\n",
       "      <td>22200741</td>\n",
       "      <td>January 28, 2023</td>\n",
       "      <td>126</td>\n",
       "      <td>119</td>\n",
       "      <td>WON</td>\n",
       "      <td>1</td>\n",
       "      <td>1</td>\n",
       "      <td>0</td>\n",
       "    </tr>\n",
       "    <tr>\n",
       "      <th>2</th>\n",
       "      <td>2</td>\n",
       "      <td>Pistons</td>\n",
       "      <td>Rockets</td>\n",
       "      <td>Pistons vs Rockets</td>\n",
       "      <td>22200743</td>\n",
       "      <td>January 28, 2023</td>\n",
       "      <td>114</td>\n",
       "      <td>117</td>\n",
       "      <td>LOSS</td>\n",
       "      <td>4</td>\n",
       "      <td>0</td>\n",
       "      <td>0</td>\n",
       "    </tr>\n",
       "    <tr>\n",
       "      <th>4</th>\n",
       "      <td>4</td>\n",
       "      <td>Spurs</td>\n",
       "      <td>Suns</td>\n",
       "      <td>Spurs vs Suns</td>\n",
       "      <td>22200748</td>\n",
       "      <td>January 28, 2023</td>\n",
       "      <td>118</td>\n",
       "      <td>128</td>\n",
       "      <td>LOSS</td>\n",
       "      <td>1</td>\n",
       "      <td>0</td>\n",
       "      <td>0</td>\n",
       "    </tr>\n",
       "    <tr>\n",
       "      <th>6</th>\n",
       "      <td>6</td>\n",
       "      <td>Celtics</td>\n",
       "      <td>Lakers</td>\n",
       "      <td>Celtics vs Lakers</td>\n",
       "      <td>22200749</td>\n",
       "      <td>January 28, 2023</td>\n",
       "      <td>125</td>\n",
       "      <td>121</td>\n",
       "      <td>WON</td>\n",
       "      <td>3</td>\n",
       "      <td>1</td>\n",
       "      <td>0</td>\n",
       "    </tr>\n",
       "    <tr>\n",
       "      <th>8</th>\n",
       "      <td>8</td>\n",
       "      <td>Heat</td>\n",
       "      <td>Magic</td>\n",
       "      <td>Heat vs Magic</td>\n",
       "      <td>22200738</td>\n",
       "      <td>January 27, 2023</td>\n",
       "      <td>110</td>\n",
       "      <td>105</td>\n",
       "      <td>WON</td>\n",
       "      <td>1</td>\n",
       "      <td>1</td>\n",
       "      <td>0</td>\n",
       "    </tr>\n",
       "    <tr>\n",
       "      <th>10</th>\n",
       "      <td>10</td>\n",
       "      <td>Celtics</td>\n",
       "      <td>Knicks</td>\n",
       "      <td>Celtics vs Knicks</td>\n",
       "      <td>22200730</td>\n",
       "      <td>January 26, 2023</td>\n",
       "      <td>117</td>\n",
       "      <td>120</td>\n",
       "      <td>LOSS</td>\n",
       "      <td>4</td>\n",
       "      <td>2</td>\n",
       "      <td>0</td>\n",
       "    </tr>\n",
       "    <tr>\n",
       "      <th>12</th>\n",
       "      <td>12</td>\n",
       "      <td>Suns</td>\n",
       "      <td>Mavericks</td>\n",
       "      <td>Suns vs Mavericks</td>\n",
       "      <td>22200734</td>\n",
       "      <td>January 26, 2023</td>\n",
       "      <td>95</td>\n",
       "      <td>99</td>\n",
       "      <td>LOSS</td>\n",
       "      <td>3</td>\n",
       "      <td>1</td>\n",
       "      <td>0</td>\n",
       "    </tr>\n",
       "    <tr>\n",
       "      <th>14</th>\n",
       "      <td>14</td>\n",
       "      <td>76ers</td>\n",
       "      <td>Nets</td>\n",
       "      <td>76ers vs Nets</td>\n",
       "      <td>22200721</td>\n",
       "      <td>January 25, 2023</td>\n",
       "      <td>137</td>\n",
       "      <td>133</td>\n",
       "      <td>WON</td>\n",
       "      <td>0</td>\n",
       "      <td>1</td>\n",
       "      <td>0</td>\n",
       "    </tr>\n",
       "    <tr>\n",
       "      <th>16</th>\n",
       "      <td>16</td>\n",
       "      <td>Thunder</td>\n",
       "      <td>Hawks</td>\n",
       "      <td>Thunder vs Hawks</td>\n",
       "      <td>22200725</td>\n",
       "      <td>January 25, 2023</td>\n",
       "      <td>132</td>\n",
       "      <td>137</td>\n",
       "      <td>LOSS</td>\n",
       "      <td>2</td>\n",
       "      <td>0</td>\n",
       "      <td>0</td>\n",
       "    </tr>\n",
       "    <tr>\n",
       "      <th>18</th>\n",
       "      <td>18</td>\n",
       "      <td>Warriors</td>\n",
       "      <td>Grizzlies</td>\n",
       "      <td>Warriors vs Grizzlies</td>\n",
       "      <td>22200726</td>\n",
       "      <td>January 25, 2023</td>\n",
       "      <td>122</td>\n",
       "      <td>120</td>\n",
       "      <td>WON</td>\n",
       "      <td>4</td>\n",
       "      <td>1</td>\n",
       "      <td>0</td>\n",
       "    </tr>\n",
       "  </tbody>\n",
       "</table>\n",
       "</div>"
      ],
      "text/plain": [
       "    Unnamed: 0  teamName   opponent                   game    gameId  \\\n",
       "0            0     76ers    Nuggets       76ers vs Nuggets  22200741   \n",
       "2            2   Pistons    Rockets     Pistons vs Rockets  22200743   \n",
       "4            4     Spurs       Suns          Spurs vs Suns  22200748   \n",
       "6            6   Celtics     Lakers      Celtics vs Lakers  22200749   \n",
       "8            8      Heat      Magic          Heat vs Magic  22200738   \n",
       "10          10   Celtics     Knicks      Celtics vs Knicks  22200730   \n",
       "12          12      Suns  Mavericks      Suns vs Mavericks  22200734   \n",
       "14          14     76ers       Nets          76ers vs Nets  22200721   \n",
       "16          16   Thunder      Hawks       Thunder vs Hawks  22200725   \n",
       "18          18  Warriors  Grizzlies  Warriors vs Grizzlies  22200726   \n",
       "\n",
       "            gameDate  pointsScored  pointsAllowed outcome  callsReceived  \\\n",
       "0   January 28, 2023           126            119     WON              1   \n",
       "2   January 28, 2023           114            117    LOSS              4   \n",
       "4   January 28, 2023           118            128    LOSS              1   \n",
       "6   January 28, 2023           125            121     WON              3   \n",
       "8   January 27, 2023           110            105     WON              1   \n",
       "10  January 26, 2023           117            120    LOSS              4   \n",
       "12  January 26, 2023            95             99    LOSS              3   \n",
       "14  January 25, 2023           137            133     WON              0   \n",
       "16  January 25, 2023           132            137    LOSS              2   \n",
       "18  January 25, 2023           122            120     WON              4   \n",
       "\n",
       "    errorsInFavor  posessionsInFavor  \n",
       "0               1                  0  \n",
       "2               0                  0  \n",
       "4               0                  0  \n",
       "6               1                  0  \n",
       "8               1                  0  \n",
       "10              2                  0  \n",
       "12              1                  0  \n",
       "14              1                  0  \n",
       "16              0                  0  \n",
       "18              1                  0  "
      ]
     },
     "execution_count": 16,
     "metadata": {},
     "output_type": "execute_result"
    }
   ],
   "source": [
    "filtered_team_df = team_df[team_df[\"game\"].str.contains(\"vs\")]\n",
    "filtered_team_df.head(10)"
   ]
  },
  {
   "cell_type": "code",
   "execution_count": 45,
   "id": "699dbc2d",
   "metadata": {},
   "outputs": [
    {
     "name": "stderr",
     "output_type": "stream",
     "text": [
      "100%|█████████████████████████████████████| 277/277 [00:00<00:00, 606379.02it/s]"
     ]
    },
    {
     "name": "stdout",
     "output_type": "stream",
     "text": [
      "Retreived 277 box score URLs\n"
     ]
    },
    {
     "name": "stderr",
     "output_type": "stream",
     "text": [
      "\n"
     ]
    }
   ],
   "source": [
    "def retrieve_urls(filtered_team_df):\n",
    "    game_data = list(zip(filtered_team_df.gameId, filtered_team_df.game))\n",
    "\n",
    "    game_urls = {}\n",
    "\n",
    "    for game_id, game in tqdm(game_data):\n",
    "\n",
    "        teams = game.split(\" vs \")\n",
    "        team1 = INVERTED_TEAM_LOOKUP[teams[0].strip()].lower()\n",
    "        team2 = INVERTED_TEAM_LOOKUP[teams[1].strip()].lower()\n",
    "\n",
    "        game_urls[game_id] = f\"https://www.nba.com/game/{team1}-vs-{team2}-00{game_id}\"\n",
    "        \n",
    "\n",
    "    print(f\"Retreived {len(game_urls)} box score URLs\")\n",
    "    \n",
    "    return game_urls\n",
    "\n",
    "game_urls = retrieve_urls(filtered_team_df=filtered_team_df)"
   ]
  },
  {
   "cell_type": "code",
   "execution_count": 51,
   "id": "c4c8e311",
   "metadata": {},
   "outputs": [
    {
     "name": "stderr",
     "output_type": "stream",
     "text": [
      " 36%|██████████████▉                          | 101/277 [01:22<03:12,  1.09s/it]"
     ]
    },
    {
     "name": "stdout",
     "output_type": "stream",
     "text": [
      "Failed to process game on first try. Retrying: 22200487 with URL: https://www.nba.com/game/hou-vs-dal-0022200487\n"
     ]
    },
    {
     "name": "stderr",
     "output_type": "stream",
     "text": [
      " 45%|██████████████████▋                      | 126/277 [02:37<05:44,  2.28s/it]"
     ]
    },
    {
     "name": "stdout",
     "output_type": "stream",
     "text": [
      "Failed to process game on first try. Retrying: 22200414 with URL: https://www.nba.com/game/cha-vs-det-0022200414\n"
     ]
    },
    {
     "name": "stderr",
     "output_type": "stream",
     "text": [
      " 48%|███████████████████▋                     | 133/277 [03:01<03:13,  1.34s/it]"
     ]
    },
    {
     "name": "stdout",
     "output_type": "stream",
     "text": [
      "Failed to process game on first try. Retrying: 22200395 with URL: https://www.nba.com/game/nop-vs-phx-0022200395\n"
     ]
    },
    {
     "name": "stderr",
     "output_type": "stream",
     "text": [
      " 50%|████████████████████▍                    | 138/277 [03:15<06:27,  2.79s/it]"
     ]
    },
    {
     "name": "stdout",
     "output_type": "stream",
     "text": [
      "Failed to process game on first try. Retrying: 22200388 with URL: https://www.nba.com/game/ind-vs-bkn-0022200388\n"
     ]
    },
    {
     "name": "stderr",
     "output_type": "stream",
     "text": [
      " 56%|███████████████████████                  | 156/277 [04:36<02:12,  1.09s/it]"
     ]
    },
    {
     "name": "stdout",
     "output_type": "stream",
     "text": [
      "Failed to process game on first try. Retrying: 22200356 with URL: https://www.nba.com/game/hou-vs-phi-0022200356\n"
     ]
    },
    {
     "name": "stderr",
     "output_type": "stream",
     "text": [
      " 64%|██████████████████████████▎              | 178/277 [05:46<02:43,  1.66s/it]"
     ]
    },
    {
     "name": "stdout",
     "output_type": "stream",
     "text": [
      "Failed to process game on first try. Retrying: 22200281 with URL: https://www.nba.com/game/okc-vs-chi-0022200281\n"
     ]
    },
    {
     "name": "stderr",
     "output_type": "stream",
     "text": [
      " 65%|██████████████████████████▋              | 180/277 [06:03<07:03,  4.36s/it]"
     ]
    },
    {
     "name": "stdout",
     "output_type": "stream",
     "text": [
      "Failed to process game on first try. Retrying: 22200260 with URL: https://www.nba.com/game/cha-vs-phi-0022200260\n"
     ]
    },
    {
     "name": "stderr",
     "output_type": "stream",
     "text": [
      " 66%|██████████████████████████▉              | 182/277 [06:19<08:52,  5.60s/it]"
     ]
    },
    {
     "name": "stdout",
     "output_type": "stream",
     "text": [
      "Failed to process game on first try. Retrying: 22200268 with URL: https://www.nba.com/game/okc-vs-den-0022200268\n"
     ]
    },
    {
     "name": "stderr",
     "output_type": "stream",
     "text": [
      " 68%|███████████████████████████▋             | 187/277 [06:38<03:49,  2.55s/it]"
     ]
    },
    {
     "name": "stdout",
     "output_type": "stream",
     "text": [
      "Failed to process game on first try. Retrying: 22200242 with URL: https://www.nba.com/game/sac-vs-det-0022200242\n"
     ]
    },
    {
     "name": "stderr",
     "output_type": "stream",
     "text": [
      " 82%|█████████████████████████████████▋       | 228/277 [08:19<02:14,  2.75s/it]"
     ]
    },
    {
     "name": "stdout",
     "output_type": "stream",
     "text": [
      "Failed to process game on first try. Retrying: 22200122 with URL: https://www.nba.com/game/phi-vs-nyk-0022200122\n"
     ]
    },
    {
     "name": "stderr",
     "output_type": "stream",
     "text": [
      " 90%|█████████████████████████████████████    | 250/277 [09:19<01:08,  2.54s/it]"
     ]
    },
    {
     "name": "stdout",
     "output_type": "stream",
     "text": [
      "Failed to process game on first try. Retrying: 22200077 with URL: https://www.nba.com/game/sas-vs-chi-0022200077\n"
     ]
    },
    {
     "name": "stderr",
     "output_type": "stream",
     "text": [
      "100%|█████████████████████████████████████████| 277/277 [10:17<00:00,  2.23s/it]\n"
     ]
    }
   ],
   "source": [
    "def retrieve_officials_for_game(game_id, game_url):\n",
    "    resp = requests.get(game_url)\n",
    "    soup = BeautifulSoup(resp.text)\n",
    "    data = json.loads(soup.find('script', type='application/json').text)\n",
    "    officials = data[\"props\"][\"pageProps\"][\"game\"][\"officials\"]\n",
    "    for official in officials:\n",
    "        official.update({\"gameId\": game_id})\n",
    "    \n",
    "    return officials\n",
    "\n",
    "def retrieve_officials(game_urls):\n",
    "    \n",
    "    official_data = []\n",
    "    for game_id, game_url in tqdm(game_urls.items()):\n",
    "        \n",
    "        try:\n",
    "            official_data.extend(\n",
    "                retrieve_officials_for_game(game_id=game_id, game_url=game_url)\n",
    "            )\n",
    "        except Exception as ex:\n",
    "            print(f\"Failed to process game on first try. Retrying: {game_id} with URL: {game_url}\")\n",
    "            time.sleep(5)\n",
    "            try:\n",
    "                official_data.extend(\n",
    "                    retrieve_officials_for_game(game_id=game_id, game_url=game_url)\n",
    "                )\n",
    "            except Exception as ex2:\n",
    "            \n",
    "                print(f\"Unable to process game: {game_id} with URL: {game_url}\")\n",
    "            \n",
    "    return pd.DataFrame(official_data)\n",
    "\n",
    "official_data = retrieve_officials(game_urls)\n",
    "        "
   ]
  },
  {
   "cell_type": "code",
   "execution_count": 52,
   "id": "c50410d8",
   "metadata": {},
   "outputs": [
    {
     "data": {
      "text/html": [
       "<div>\n",
       "<style scoped>\n",
       "    .dataframe tbody tr th:only-of-type {\n",
       "        vertical-align: middle;\n",
       "    }\n",
       "\n",
       "    .dataframe tbody tr th {\n",
       "        vertical-align: top;\n",
       "    }\n",
       "\n",
       "    .dataframe thead th {\n",
       "        text-align: right;\n",
       "    }\n",
       "</style>\n",
       "<table border=\"1\" class=\"dataframe\">\n",
       "  <thead>\n",
       "    <tr style=\"text-align: right;\">\n",
       "      <th></th>\n",
       "      <th>personId</th>\n",
       "      <th>name</th>\n",
       "      <th>nameI</th>\n",
       "      <th>firstName</th>\n",
       "      <th>familyName</th>\n",
       "      <th>jerseyNum</th>\n",
       "      <th>assignment</th>\n",
       "      <th>gameId</th>\n",
       "    </tr>\n",
       "  </thead>\n",
       "  <tbody>\n",
       "    <tr>\n",
       "      <th>0</th>\n",
       "      <td>101283</td>\n",
       "      <td>Brian Forte</td>\n",
       "      <td>B. Forte</td>\n",
       "      <td>Brian</td>\n",
       "      <td>Forte</td>\n",
       "      <td>45</td>\n",
       "      <td></td>\n",
       "      <td>22200741</td>\n",
       "    </tr>\n",
       "    <tr>\n",
       "      <th>1</th>\n",
       "      <td>101284</td>\n",
       "      <td>John Goble</td>\n",
       "      <td>J. Goble</td>\n",
       "      <td>John</td>\n",
       "      <td>Goble</td>\n",
       "      <td>10</td>\n",
       "      <td></td>\n",
       "      <td>22200741</td>\n",
       "    </tr>\n",
       "    <tr>\n",
       "      <th>2</th>\n",
       "      <td>203592</td>\n",
       "      <td>Dedric Taylor</td>\n",
       "      <td>D. Taylor</td>\n",
       "      <td>Dedric</td>\n",
       "      <td>Taylor</td>\n",
       "      <td>21</td>\n",
       "      <td></td>\n",
       "      <td>22200741</td>\n",
       "    </tr>\n",
       "    <tr>\n",
       "      <th>3</th>\n",
       "      <td>2004</td>\n",
       "      <td>Courtney Kirkland</td>\n",
       "      <td>C. Kirkland</td>\n",
       "      <td>Courtney</td>\n",
       "      <td>Kirkland</td>\n",
       "      <td>61</td>\n",
       "      <td></td>\n",
       "      <td>22200743</td>\n",
       "    </tr>\n",
       "    <tr>\n",
       "      <th>4</th>\n",
       "      <td>201245</td>\n",
       "      <td>Marat Kogut</td>\n",
       "      <td>M. Kogut</td>\n",
       "      <td>Marat</td>\n",
       "      <td>Kogut</td>\n",
       "      <td>32</td>\n",
       "      <td></td>\n",
       "      <td>22200743</td>\n",
       "    </tr>\n",
       "    <tr>\n",
       "      <th>5</th>\n",
       "      <td>1627524</td>\n",
       "      <td>Nate Green</td>\n",
       "      <td>N. Green</td>\n",
       "      <td>Nate</td>\n",
       "      <td>Green</td>\n",
       "      <td>65</td>\n",
       "      <td></td>\n",
       "      <td>22200743</td>\n",
       "    </tr>\n",
       "    <tr>\n",
       "      <th>6</th>\n",
       "      <td>200834</td>\n",
       "      <td>Mark Lindsay</td>\n",
       "      <td>M. Lindsay</td>\n",
       "      <td>Mark</td>\n",
       "      <td>Lindsay</td>\n",
       "      <td>29</td>\n",
       "      <td></td>\n",
       "      <td>22200748</td>\n",
       "    </tr>\n",
       "    <tr>\n",
       "      <th>7</th>\n",
       "      <td>202035</td>\n",
       "      <td>Brett Nansel</td>\n",
       "      <td>B. Nansel</td>\n",
       "      <td>Brett</td>\n",
       "      <td>Nansel</td>\n",
       "      <td>44</td>\n",
       "      <td></td>\n",
       "      <td>22200748</td>\n",
       "    </tr>\n",
       "    <tr>\n",
       "      <th>8</th>\n",
       "      <td>1627963</td>\n",
       "      <td>Phenizee Ransom</td>\n",
       "      <td>P. Ransom</td>\n",
       "      <td>Phenizee</td>\n",
       "      <td>Ransom</td>\n",
       "      <td>70</td>\n",
       "      <td></td>\n",
       "      <td>22200748</td>\n",
       "    </tr>\n",
       "    <tr>\n",
       "      <th>9</th>\n",
       "      <td>2715</td>\n",
       "      <td>Eric Lewis</td>\n",
       "      <td>E. Lewis</td>\n",
       "      <td>Eric</td>\n",
       "      <td>Lewis</td>\n",
       "      <td>42</td>\n",
       "      <td></td>\n",
       "      <td>22200749</td>\n",
       "    </tr>\n",
       "    <tr>\n",
       "      <th>10</th>\n",
       "      <td>1627534</td>\n",
       "      <td>Andy Nagy</td>\n",
       "      <td>A. Nagy</td>\n",
       "      <td>Andy</td>\n",
       "      <td>Nagy</td>\n",
       "      <td>83</td>\n",
       "      <td></td>\n",
       "      <td>22200749</td>\n",
       "    </tr>\n",
       "    <tr>\n",
       "      <th>11</th>\n",
       "      <td>1627962</td>\n",
       "      <td>Jacyn Goble</td>\n",
       "      <td>J. Goble</td>\n",
       "      <td>Jacyn</td>\n",
       "      <td>Goble</td>\n",
       "      <td>68</td>\n",
       "      <td></td>\n",
       "      <td>22200749</td>\n",
       "    </tr>\n",
       "    <tr>\n",
       "      <th>12</th>\n",
       "      <td>204059</td>\n",
       "      <td>Tyler Ford</td>\n",
       "      <td>T. Ford</td>\n",
       "      <td>Tyler</td>\n",
       "      <td>Ford</td>\n",
       "      <td>39</td>\n",
       "      <td></td>\n",
       "      <td>22200738</td>\n",
       "    </tr>\n",
       "    <tr>\n",
       "      <th>13</th>\n",
       "      <td>1626302</td>\n",
       "      <td>Aaron Smith</td>\n",
       "      <td>A. Smith</td>\n",
       "      <td>Aaron</td>\n",
       "      <td>Smith</td>\n",
       "      <td>51</td>\n",
       "      <td></td>\n",
       "      <td>22200738</td>\n",
       "    </tr>\n",
       "    <tr>\n",
       "      <th>14</th>\n",
       "      <td>1628951</td>\n",
       "      <td>John Butler</td>\n",
       "      <td>J. Butler</td>\n",
       "      <td>John</td>\n",
       "      <td>Butler</td>\n",
       "      <td>30</td>\n",
       "      <td></td>\n",
       "      <td>22200738</td>\n",
       "    </tr>\n",
       "  </tbody>\n",
       "</table>\n",
       "</div>"
      ],
      "text/plain": [
       "    personId               name        nameI firstName familyName jerseyNum  \\\n",
       "0     101283        Brian Forte     B. Forte     Brian      Forte      45     \n",
       "1     101284         John Goble     J. Goble      John      Goble      10     \n",
       "2     203592      Dedric Taylor    D. Taylor    Dedric     Taylor      21     \n",
       "3       2004  Courtney Kirkland  C. Kirkland  Courtney   Kirkland      61     \n",
       "4     201245        Marat Kogut     M. Kogut     Marat      Kogut      32     \n",
       "5    1627524         Nate Green     N. Green      Nate      Green      65     \n",
       "6     200834       Mark Lindsay   M. Lindsay      Mark    Lindsay      29     \n",
       "7     202035       Brett Nansel    B. Nansel     Brett     Nansel      44     \n",
       "8    1627963    Phenizee Ransom    P. Ransom  Phenizee     Ransom      70     \n",
       "9       2715         Eric Lewis     E. Lewis      Eric      Lewis      42     \n",
       "10   1627534          Andy Nagy      A. Nagy      Andy       Nagy      83     \n",
       "11   1627962        Jacyn Goble     J. Goble     Jacyn      Goble      68     \n",
       "12    204059         Tyler Ford      T. Ford     Tyler       Ford      39     \n",
       "13   1626302        Aaron Smith     A. Smith     Aaron      Smith      51     \n",
       "14   1628951        John Butler    J. Butler      John     Butler      30     \n",
       "\n",
       "   assignment    gameId  \n",
       "0              22200741  \n",
       "1              22200741  \n",
       "2              22200741  \n",
       "3              22200743  \n",
       "4              22200743  \n",
       "5              22200743  \n",
       "6              22200748  \n",
       "7              22200748  \n",
       "8              22200748  \n",
       "9              22200749  \n",
       "10             22200749  \n",
       "11             22200749  \n",
       "12             22200738  \n",
       "13             22200738  \n",
       "14             22200738  "
      ]
     },
     "execution_count": 52,
     "metadata": {},
     "output_type": "execute_result"
    }
   ],
   "source": [
    "official_data.head(15)"
   ]
  },
  {
   "cell_type": "code",
   "execution_count": 53,
   "id": "38348c6d",
   "metadata": {},
   "outputs": [],
   "source": [
    "official_data.to_csv(\"../data/processed/officiating.csv\")"
   ]
  },
  {
   "cell_type": "code",
   "execution_count": null,
   "id": "50ca272a",
   "metadata": {},
   "outputs": [],
   "source": []
  }
 ],
 "metadata": {
  "kernelspec": {
   "display_name": "qai-python-lambdas",
   "language": "python",
   "name": "qai-python-lambdas"
  },
  "language_info": {
   "codemirror_mode": {
    "name": "ipython",
    "version": 3
   },
   "file_extension": ".py",
   "mimetype": "text/x-python",
   "name": "python",
   "nbconvert_exporter": "python",
   "pygments_lexer": "ipython3",
   "version": "3.7.11"
  }
 },
 "nbformat": 4,
 "nbformat_minor": 5
}
